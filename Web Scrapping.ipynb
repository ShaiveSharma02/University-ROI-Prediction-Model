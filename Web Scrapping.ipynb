{
 "cells": [
  {
   "cell_type": "code",
   "execution_count": 2,
   "id": "b9977e4e",
   "metadata": {},
   "outputs": [
    {
     "ename": "AttributeError",
     "evalue": "'NoneType' object has no attribute 'find_all'",
     "output_type": "error",
     "traceback": [
      "\u001b[1;31m---------------------------------------------------------------------------\u001b[0m",
      "\u001b[1;31mAttributeError\u001b[0m                            Traceback (most recent call last)",
      "Input \u001b[1;32mIn [2]\u001b[0m, in \u001b[0;36m<cell line: 21>\u001b[1;34m()\u001b[0m\n\u001b[0;32m     29\u001b[0m \u001b[38;5;66;03m# extract the data from the HTML content and append it to the list\u001b[39;00m\n\u001b[0;32m     30\u001b[0m table \u001b[38;5;241m=\u001b[39m soup\u001b[38;5;241m.\u001b[39mfind(\u001b[38;5;124m'\u001b[39m\u001b[38;5;124mtable\u001b[39m\u001b[38;5;124m'\u001b[39m)\n\u001b[1;32m---> 31\u001b[0m table_rows \u001b[38;5;241m=\u001b[39m \u001b[43mtable\u001b[49m\u001b[38;5;241;43m.\u001b[39;49m\u001b[43mfind_all\u001b[49m(\u001b[38;5;124m'\u001b[39m\u001b[38;5;124mtr\u001b[39m\u001b[38;5;124m'\u001b[39m)\n\u001b[0;32m     32\u001b[0m \u001b[38;5;28;01mfor\u001b[39;00m tr \u001b[38;5;129;01min\u001b[39;00m table_rows:\n\u001b[0;32m     33\u001b[0m     td \u001b[38;5;241m=\u001b[39m tr\u001b[38;5;241m.\u001b[39mfind_all(\u001b[38;5;124m'\u001b[39m\u001b[38;5;124mtd\u001b[39m\u001b[38;5;124m'\u001b[39m)\n",
      "\u001b[1;31mAttributeError\u001b[0m: 'NoneType' object has no attribute 'find_all'"
     ]
    }
   ],
   "source": [
    "import requests\n",
    "from bs4 import BeautifulSoup\n",
    "import pandas as pd\n",
    "\n",
    "# specify the URLs of the webpages to scrape\n",
    "urls = [\"https://www.payscale.com/college-roi/page/1\", \"https://www.payscale.com/college-roi/page/2\", \"https://www.payscale.com/college-roi/page/3\", \"https://www.payscale.com/college-roi/page/4\", \"https://www.payscale.com/college-roi/page/5\", \"https://www.payscale.com/college-roi/page/6\", \"https://www.payscale.com/college-roi/page/7\", \"https://www.payscale.com/college-roi/page/8\", \"https://www.payscale.com/college-roi/page/9\", \"https://www.payscale.com/college-roi/page/10\",\"https://www.payscale.com/college-roi/page/11\", \"https://www.payscale.com/college-roi/page/12\", \"https://www.payscale.com/college-roi/page/13\", \"https://www.payscale.com/college-roi/page/14\", \"https://www.payscale.com/college-roi/page/15\", \"https://www.payscale.com/college-roi/page/16\", \"https://www.payscale.com/college-roi/page/17\", \"https://www.payscale.com/college-roi/page/18\", \"https://www.payscale.com/college-roi/page/19\", \"https://www.payscale.com/college-roi/page/20\" ,\n",
    "        \"https://www.payscale.com/college-roi/page/21\", \"https://www.payscale.com/college-roi/page/22\", \"https://www.payscale.com/college-roi/page/23\", \"https://www.payscale.com/college-roi/page/24\", \"https://www.payscale.com/college-roi/page/25\", \"https://www.payscale.com/college-roi/page/26\", \"https://www.payscale.com/college-roi/page/27\", \"https://www.payscale.com/college-roi/page/28\", \"https://www.payscale.com/college-roi/page/29\", \"https://www.payscale.com/college-roi/page/30\",\"https://www.payscale.com/college-roi/page/31\", \"https://www.payscale.com/college-roi/page/32\", \"https://www.payscale.com/college-roi/page/33\", \"https://www.payscale.com/college-roi/page/34\", \"https://www.payscale.com/college-roi/page/35\", \"https://www.payscale.com/college-roi/page/36\", \"https://www.payscale.com/college-roi/page/37\", \"https://www.payscale.com/college-roi/page/38\", \"https://www.payscale.com/college-roi/page/39\", \"https://www.payscale.com/college-roi/page/40\" ,\n",
    "        \"https://www.payscale.com/college-roi/page/41\", \"https://www.payscale.com/college-roi/page/42\", \"https://www.payscale.com/college-roi/page/43\", \"https://www.payscale.com/college-roi/page/44\", \"https://www.payscale.com/college-roi/page/45\", \"https://www.payscale.com/college-roi/page/46\", \"https://www.payscale.com/college-roi/page/47\", \"https://www.payscale.com/college-roi/page/48\", \"https://www.payscale.com/college-roi/page/49\", \"https://www.payscale.com/college-roi/page/50\",\"https://www.payscale.com/college-roi/page/51\", \"https://www.payscale.com/college-roi/page/52\", \"https://www.payscale.com/college-roi/page/53\", \"https://www.payscale.com/college-roi/page/54\", \"https://www.payscale.com/college-roi/page/55\", \"https://www.payscale.com/college-roi/page/56\", \"https://www.payscale.com/college-roi/page/57\", \"https://www.payscale.com/college-roi/page/58\", \"https://www.payscale.com/college-roi/page/59\", \"https://www.payscale.com/college-roi/page/60\" ,\n",
    "        \"https://www.payscale.com/college-roi/page/61\", \"https://www.payscale.com/college-roi/page/62\", \"https://www.payscale.com/college-roi/page/63\", \"https://www.payscale.com/college-roi/page/64\", \"https://www.payscale.com/college-roi/page/65\", \"https://www.payscale.com/college-roi/page/66\", \"https://www.payscale.com/college-roi/page/67\", \"https://www.payscale.com/college-roi/page/68\", \"https://www.payscale.com/college-roi/page/69\", \"https://www.payscale.com/college-roi/page/70\",\"https://www.payscale.com/college-roi/page/71\", \"https://www.payscale.com/college-roi/page/72\", \"https://www.payscale.com/college-roi/page/73\", \"https://www.payscale.com/college-roi/page/74\", \"https://www.payscale.com/college-roi/page/75\", \"https://www.payscale.com/college-roi/page/76\", \"https://www.payscale.com/college-roi/page/77\", \"https://www.payscale.com/college-roi/page/78\", \"https://www.payscale.com/college-roi/page/79\", \"https://www.payscale.com/college-roi/page/80\" ,\n",
    "        \"https://www.payscale.com/college-roi/page/81\", \"https://www.payscale.com/college-roi/page/82\", \"https://www.payscale.com/college-roi/page/83\", \"https://www.payscale.com/college-roi/page/84\", \"https://www.payscale.com/college-roi/page/85\", \"https://www.payscale.com/college-roi/page/86\", \"https://www.payscale.com/college-roi/page/87\", \"https://www.payscale.com/college-roi/page/88\", \"https://www.payscale.com/college-roi/page/89\", \"https://www.payscale.com/college-roi/page/90\",\"https://www.payscale.com/college-roi/page/91\", \"https://www.payscale.com/college-roi/page/92\", \"https://www.payscale.com/college-roi/page/93\", \"https://www.payscale.com/college-roi/page/94\", \"https://www.payscale.com/college-roi/page/95\", \"https://www.payscale.com/college-roi/page/96\", \"https://www.payscale.com/college-roi/page/97\", \"https://www.payscale.com/college-roi/page/98\", \"https://www.payscale.com/college-roi/page/99\", \"https://www.payscale.com/college-roi/page/100\"\n",
    "        \"https://www.payscale.com/college-roi/page/101\", \"https://www.payscale.com/college-roi/page/102\", \"https://www.payscale.com/college-roi/page/103\", \"https://www.payscale.com/college-roi/page/104\", \"https://www.payscale.com/college-roi/page/105\", \"https://www.payscale.com/college-roi/page/106\", \"https://www.payscale.com/college-roi/page/107\", \"https://www.payscale.com/college-roi/page/108\", \"https://www.payscale.com/college-roi/page/109\", \"https://www.payscale.com/college-roi/page/110\", \"https://www.payscale.com/college-roi/page/111\", \"https://www.payscale.com/college-roi/page/112\", \"https://www.payscale.com/college-roi/page/113\", \"https://www.payscale.com/college-roi/page/114\", \"https://www.payscale.com/college-roi/page/115\", \"https://www.payscale.com/college-roi/page/116\", \"https://www.payscale.com/college-roi/page/117\", \"https://www.payscale.com/college-roi/page/118\", \"https://www.payscale.com/college-roi/page/119\", \"https://www.payscale.com/college-roi/page/120\", \n",
    "        \"https://www.payscale.com/college-roi/page/121\", \"https://www.payscale.com/college-roi/page/122\", \"https://www.payscale.com/college-roi/page/123\", \"https://www.payscale.com/college-roi/page/124\", \"https://www.payscale.com/college-roi/page/125\", \"https://www.payscale.com/college-roi/page/126\", \"https://www.payscale.com/college-roi/page/127\", \"https://www.payscale.com/college-roi/page/128\", \"https://www.payscale.com/college-roi/page/129\", \"https://www.payscale.com/college-roi/page/130\", \"https://www.payscale.com/college-roi/page/131\", \"https://www.payscale.com/college-roi/page/132\", \"https://www.payscale.com/college-roi/page/133\", \"https://www.payscale.com/college-roi/page/134\", \"https://www.payscale.com/college-roi/page/135\", \"https://www.payscale.com/college-roi/page/136\", \"https://www.payscale.com/college-roi/page/137\", \"https://www.payscale.com/college-roi/page/138\", \"https://www.payscale.com/college-roi/page/139\", \"https://www.payscale.com/college-roi/page/140\", \n",
    "        \"https://www.payscale.com/college-roi/page/141\", \"https://www.payscale.com/college-roi/page/142\", \"https://www.payscale.com/college-roi/page/143\", \"https://www.payscale.com/college-roi/page/144\", \"https://www.payscale.com/college-roi/page/145\", \"https://www.payscale.com/college-roi/page/146\", \"https://www.payscale.com/college-roi/page/147\", \"https://www.payscale.com/college-roi/page/148\", \"https://www.payscale.com/college-roi/page/149\", \"https://www.payscale.com/college-roi/page/150\", \"https://www.payscale.com/college-roi/page/151\", \"https://www.payscale.com/college-roi/page/152\", \"https://www.payscale.com/college-roi/page/153\", \"https://www.payscale.com/college-roi/page/154\", \"https://www.payscale.com/college-roi/page/155\", \"https://www.payscale.com/college-roi/page/156\", \"https://www.payscale.com/college-roi/page/157\", \"https://www.payscale.com/college-roi/page/158\", \"https://www.payscale.com/college-roi/page/159\", \"https://www.payscale.com/college-roi/page/160\", \n",
    "        \"https://www.payscale.com/college-roi/page/161\", \"https://www.payscale.com/college-roi/page/162\", \"https://www.payscale.com/college-roi/page/163\", \"https://www.payscale.com/college-roi/page/164\", \"https://www.payscale.com/college-roi/page/165\", \"https://www.payscale.com/college-roi/page/166\", \"https://www.payscale.com/college-roi/page/167\", \"https://www.payscale.com/college-roi/page/168\", \"https://www.payscale.com/college-roi/page/169\", \"https://www.payscale.com/college-roi/page/170\", \"https://www.payscale.com/college-roi/page/171\", \"https://www.payscale.com/college-roi/page/172\", \"https://www.payscale.com/college-roi/page/173\", \"https://www.payscale.com/college-roi/page/174\", \"https://www.payscale.com/college-roi/page/175\", \"https://www.payscale.com/college-roi/page/176\", \"https://www.payscale.com/college-roi/page/177\", \"https://www.payscale.com/college-roi/page/178\", \"https://www.payscale.com/college-roi/page/179\", \"https://www.payscale.com/college-roi/page/180\", \n",
    "        \"https://www.payscale.com/college-roi/page/181\", \"https://www.payscale.com/college-roi/page/182\", \"https://www.payscale.com/college-roi/page/183\", \"https://www.payscale.com/college-roi/page/184\", \"https://www.payscale.com/college-roi/page/185\", \"https://www.payscale.com/college-roi/page/186\", \"https://www.payscale.com/college-roi/page/187\", \"https://www.payscale.com/college-roi/page/188\" ]\n",
    "\n",
    "# create an empty list to store the extracted data\n",
    "data = []\n",
    "\n",
    "# loop through the URLs and extract the data\n",
    "for url in urls:\n",
    "    # send a GET request to the URL and get the HTML content\n",
    "    response = requests.get(url)\n",
    "    html_content = response.content\n",
    "\n",
    "    # parse the HTML content using BeautifulSoup\n",
    "    soup = BeautifulSoup(html_content, 'html.parser')\n",
    "\n",
    "    # extract the data from the HTML content and append it to the list\n",
    "    table = soup.find('table')\n",
    "    table_rows = table.find_all('tr')\n",
    "    for tr in table_rows:\n",
    "        td = tr.find_all('td')\n",
    "        row = [i.text for i in td]\n",
    "        data.append(row)\n",
    "\n",
    "# create a pandas DataFrame from the extracted data\n",
    "df = pd.DataFrame(data, columns=['Column 1', 'Column 2', 'Column 3', 'Column 4', 'Column 5', 'Column 6' , 'Columnn 7'])\n",
    "\n",
    "# save the DataFrame as a CSV file\n",
    "df.to_csv('dataset.csv', index=False)\n"
   ]
  },
  {
   "cell_type": "code",
   "execution_count": null,
   "id": "459cf934",
   "metadata": {},
   "outputs": [],
   "source": []
  }
 ],
 "metadata": {
  "kernelspec": {
   "display_name": "Python 3 (ipykernel)",
   "language": "python",
   "name": "python3"
  },
  "language_info": {
   "codemirror_mode": {
    "name": "ipython",
    "version": 3
   },
   "file_extension": ".py",
   "mimetype": "text/x-python",
   "name": "python",
   "nbconvert_exporter": "python",
   "pygments_lexer": "ipython3",
   "version": "3.9.16"
  }
 },
 "nbformat": 4,
 "nbformat_minor": 5
}
